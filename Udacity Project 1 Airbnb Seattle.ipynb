{
 "cells": [
  {
   "cell_type": "markdown",
   "metadata": {},
   "source": [
    "# Introduction\n",
    "\n",
    "While exploring the Airbnb data I found it interesting that there was roughly a 50/50 split between rentals that allowed for a single night stay and those that didn't.  I thought it would be interesting to dig into this further and see whether or not the other variables present might help to predict whether a property allows for one night stays or not.\n",
    "\n",
    "Using Logistic Regression I found that properties with lower price, higher number of reviews, less strict cancellation policies, owned by non-superhosts, and not requiring a photo id of the guest were more likely to offer a one night stay policy. The model had a 67% accuracy rate on the test dataset."
   ]
  },
  {
   "cell_type": "code",
   "execution_count": 98,
   "metadata": {},
   "outputs": [],
   "source": [
    "import numpy as np\n",
    "import pandas as pd\n",
    "import matplotlib.pyplot as plt\n",
    "from sklearn.linear_model import LogisticRegression\n",
    "from sklearn.model_selection import train_test_split\n",
    "from sklearn.metrics import r2_score, mean_squared_error\n",
    "import seaborn as sns\n",
    "import statsmodels.api as sm\n",
    "\n",
    "from pprint import pprint\n",
    "%matplotlib inline\n",
    "\n",
    "# df = pd.read_csv('./survey_results_public.csv')\n",
    "# df.head()"
   ]
  },
  {
   "cell_type": "markdown",
   "metadata": {},
   "source": [
    "## Step 1: Gather\n",
    "Only keep variables of interest that can be modeled with logistic regression (i.e. exclude ID numbers, long text fields, and other fields which have little to no variation (such as country)"
   ]
  },
  {
   "cell_type": "code",
   "execution_count": 99,
   "metadata": {
    "scrolled": false
   },
   "outputs": [
    {
     "data": {
      "text/html": [
       "<div>\n",
       "<style>\n",
       "    .dataframe thead tr:only-child th {\n",
       "        text-align: right;\n",
       "    }\n",
       "\n",
       "    .dataframe thead th {\n",
       "        text-align: left;\n",
       "    }\n",
       "\n",
       "    .dataframe tbody tr th {\n",
       "        vertical-align: top;\n",
       "    }\n",
       "</style>\n",
       "<table border=\"1\" class=\"dataframe\">\n",
       "  <thead>\n",
       "    <tr style=\"text-align: right;\">\n",
       "      <th></th>\n",
       "      <th>host_response_rate</th>\n",
       "      <th>host_acceptance_rate</th>\n",
       "      <th>host_is_superhost</th>\n",
       "      <th>host_total_listings_count</th>\n",
       "      <th>host_has_profile_pic</th>\n",
       "      <th>host_identity_verified</th>\n",
       "      <th>neighbourhood_group_cleansed</th>\n",
       "      <th>property_type</th>\n",
       "      <th>room_type</th>\n",
       "      <th>accommodates</th>\n",
       "      <th>...</th>\n",
       "      <th>availability_30</th>\n",
       "      <th>number_of_reviews</th>\n",
       "      <th>review_scores_rating</th>\n",
       "      <th>requires_license</th>\n",
       "      <th>instant_bookable</th>\n",
       "      <th>cancellation_policy</th>\n",
       "      <th>require_guest_profile_picture</th>\n",
       "      <th>require_guest_phone_verification</th>\n",
       "      <th>calculated_host_listings_count</th>\n",
       "      <th>reviews_per_month</th>\n",
       "    </tr>\n",
       "  </thead>\n",
       "  <tbody>\n",
       "    <tr>\n",
       "      <th>0</th>\n",
       "      <td>96%</td>\n",
       "      <td>100%</td>\n",
       "      <td>f</td>\n",
       "      <td>3.0</td>\n",
       "      <td>t</td>\n",
       "      <td>t</td>\n",
       "      <td>Queen Anne</td>\n",
       "      <td>Apartment</td>\n",
       "      <td>Entire home/apt</td>\n",
       "      <td>4</td>\n",
       "      <td>...</td>\n",
       "      <td>14</td>\n",
       "      <td>207</td>\n",
       "      <td>95.0</td>\n",
       "      <td>f</td>\n",
       "      <td>f</td>\n",
       "      <td>moderate</td>\n",
       "      <td>f</td>\n",
       "      <td>f</td>\n",
       "      <td>2</td>\n",
       "      <td>4.07</td>\n",
       "    </tr>\n",
       "    <tr>\n",
       "      <th>1</th>\n",
       "      <td>98%</td>\n",
       "      <td>100%</td>\n",
       "      <td>t</td>\n",
       "      <td>6.0</td>\n",
       "      <td>t</td>\n",
       "      <td>t</td>\n",
       "      <td>Queen Anne</td>\n",
       "      <td>Apartment</td>\n",
       "      <td>Entire home/apt</td>\n",
       "      <td>4</td>\n",
       "      <td>...</td>\n",
       "      <td>13</td>\n",
       "      <td>43</td>\n",
       "      <td>96.0</td>\n",
       "      <td>f</td>\n",
       "      <td>f</td>\n",
       "      <td>strict</td>\n",
       "      <td>t</td>\n",
       "      <td>t</td>\n",
       "      <td>6</td>\n",
       "      <td>1.48</td>\n",
       "    </tr>\n",
       "    <tr>\n",
       "      <th>2</th>\n",
       "      <td>67%</td>\n",
       "      <td>100%</td>\n",
       "      <td>f</td>\n",
       "      <td>2.0</td>\n",
       "      <td>t</td>\n",
       "      <td>t</td>\n",
       "      <td>Queen Anne</td>\n",
       "      <td>House</td>\n",
       "      <td>Entire home/apt</td>\n",
       "      <td>11</td>\n",
       "      <td>...</td>\n",
       "      <td>1</td>\n",
       "      <td>20</td>\n",
       "      <td>97.0</td>\n",
       "      <td>f</td>\n",
       "      <td>f</td>\n",
       "      <td>strict</td>\n",
       "      <td>f</td>\n",
       "      <td>f</td>\n",
       "      <td>2</td>\n",
       "      <td>1.15</td>\n",
       "    </tr>\n",
       "    <tr>\n",
       "      <th>3</th>\n",
       "      <td>NaN</td>\n",
       "      <td>NaN</td>\n",
       "      <td>f</td>\n",
       "      <td>1.0</td>\n",
       "      <td>t</td>\n",
       "      <td>t</td>\n",
       "      <td>Queen Anne</td>\n",
       "      <td>Apartment</td>\n",
       "      <td>Entire home/apt</td>\n",
       "      <td>3</td>\n",
       "      <td>...</td>\n",
       "      <td>0</td>\n",
       "      <td>0</td>\n",
       "      <td>NaN</td>\n",
       "      <td>f</td>\n",
       "      <td>f</td>\n",
       "      <td>flexible</td>\n",
       "      <td>f</td>\n",
       "      <td>f</td>\n",
       "      <td>1</td>\n",
       "      <td>NaN</td>\n",
       "    </tr>\n",
       "    <tr>\n",
       "      <th>4</th>\n",
       "      <td>100%</td>\n",
       "      <td>NaN</td>\n",
       "      <td>f</td>\n",
       "      <td>2.0</td>\n",
       "      <td>t</td>\n",
       "      <td>t</td>\n",
       "      <td>Queen Anne</td>\n",
       "      <td>House</td>\n",
       "      <td>Entire home/apt</td>\n",
       "      <td>6</td>\n",
       "      <td>...</td>\n",
       "      <td>30</td>\n",
       "      <td>38</td>\n",
       "      <td>92.0</td>\n",
       "      <td>f</td>\n",
       "      <td>f</td>\n",
       "      <td>strict</td>\n",
       "      <td>f</td>\n",
       "      <td>f</td>\n",
       "      <td>1</td>\n",
       "      <td>0.89</td>\n",
       "    </tr>\n",
       "  </tbody>\n",
       "</table>\n",
       "<p>5 rows × 35 columns</p>\n",
       "</div>"
      ],
      "text/plain": [
       "  host_response_rate host_acceptance_rate host_is_superhost  \\\n",
       "0                96%                 100%                 f   \n",
       "1                98%                 100%                 t   \n",
       "2                67%                 100%                 f   \n",
       "3                NaN                  NaN                 f   \n",
       "4               100%                  NaN                 f   \n",
       "\n",
       "   host_total_listings_count host_has_profile_pic host_identity_verified  \\\n",
       "0                        3.0                    t                      t   \n",
       "1                        6.0                    t                      t   \n",
       "2                        2.0                    t                      t   \n",
       "3                        1.0                    t                      t   \n",
       "4                        2.0                    t                      t   \n",
       "\n",
       "  neighbourhood_group_cleansed property_type        room_type  accommodates  \\\n",
       "0                   Queen Anne     Apartment  Entire home/apt             4   \n",
       "1                   Queen Anne     Apartment  Entire home/apt             4   \n",
       "2                   Queen Anne         House  Entire home/apt            11   \n",
       "3                   Queen Anne     Apartment  Entire home/apt             3   \n",
       "4                   Queen Anne         House  Entire home/apt             6   \n",
       "\n",
       "         ...         availability_30  number_of_reviews  review_scores_rating  \\\n",
       "0        ...                      14                207                  95.0   \n",
       "1        ...                      13                 43                  96.0   \n",
       "2        ...                       1                 20                  97.0   \n",
       "3        ...                       0                  0                   NaN   \n",
       "4        ...                      30                 38                  92.0   \n",
       "\n",
       "  requires_license instant_bookable  cancellation_policy  \\\n",
       "0                f                f             moderate   \n",
       "1                f                f               strict   \n",
       "2                f                f               strict   \n",
       "3                f                f             flexible   \n",
       "4                f                f               strict   \n",
       "\n",
       "  require_guest_profile_picture require_guest_phone_verification  \\\n",
       "0                             f                                f   \n",
       "1                             t                                t   \n",
       "2                             f                                f   \n",
       "3                             f                                f   \n",
       "4                             f                                f   \n",
       "\n",
       "  calculated_host_listings_count reviews_per_month  \n",
       "0                              2              4.07  \n",
       "1                              6              1.48  \n",
       "2                              2              1.15  \n",
       "3                              1               NaN  \n",
       "4                              1              0.89  \n",
       "\n",
       "[5 rows x 35 columns]"
      ]
     },
     "execution_count": 99,
     "metadata": {},
     "output_type": "execute_result"
    }
   ],
   "source": [
    "df = pd.read_csv('~/UdacityDesktop/listings.csv')\n",
    "df2 = df[[\n",
    "'host_response_rate',\n",
    "'host_acceptance_rate',\n",
    "'host_is_superhost',\n",
    "'host_total_listings_count',\n",
    "'host_has_profile_pic',\n",
    "'host_identity_verified',\n",
    "'neighbourhood_group_cleansed',\n",
    "'property_type',\n",
    "'room_type',\n",
    "'accommodates',\n",
    "'bathrooms',\n",
    "'bedrooms',\n",
    "'beds',\n",
    "'bed_type',\n",
    "'amenities',\n",
    "'square_feet',\n",
    "'price',\n",
    "'weekly_price',\n",
    "'monthly_price',\n",
    "'security_deposit',\n",
    "'cleaning_fee',\n",
    "'guests_included',\n",
    "'extra_people',\n",
    "'minimum_nights',\n",
    "'maximum_nights',\n",
    "'availability_30',\n",
    "'number_of_reviews',\n",
    "'review_scores_rating',\n",
    "'requires_license',\n",
    "'instant_bookable',\n",
    "'cancellation_policy',\n",
    "'require_guest_profile_picture',\n",
    "'require_guest_phone_verification',\n",
    "'calculated_host_listings_count',\n",
    "'reviews_per_month']].copy()\n",
    "df2.head()"
   ]
  },
  {
   "cell_type": "markdown",
   "metadata": {},
   "source": [
    "# Step 2: Assess"
   ]
  },
  {
   "cell_type": "markdown",
   "metadata": {},
   "source": [
    "First I Determine whether any variable has too many missing values to be relevant to modeling.  Below I show all columns that have more than 1% of their values missing.  After checking for null values below, I determine that only square feet should be removed as over 97% of the values are missing.  This is unfortunate, in my opinion, as square footage would likely be very relevant for predicting things such as nightly price.\n",
    "\n",
    "Weekly_price, monthly_price, security_deposit, and cleaning_fee also have high percentages of missing values.  However, in those cases, the missing values can be set to 0 because a missing likely just means that there is no extra fee for those items.  \n",
    "\n",
    "In the case of host_acceptance_rate, review_per_month, review_scores_rating, and host_response_rate, an average of the column will be used in their place instead of a null value."
   ]
  },
  {
   "cell_type": "code",
   "execution_count": 100,
   "metadata": {
    "scrolled": false
   },
   "outputs": [
    {
     "data": {
      "text/plain": [
       "square_feet             0.974594\n",
       "monthly_price           0.602672\n",
       "security_deposit        0.511262\n",
       "weekly_price            0.473808\n",
       "cleaning_fee            0.269775\n",
       "host_acceptance_rate    0.202462\n",
       "review_scores_rating    0.169460\n",
       "reviews_per_month       0.164222\n",
       "host_response_rate      0.136983\n",
       "dtype: float64"
      ]
     },
     "execution_count": 100,
     "metadata": {},
     "output_type": "execute_result"
    }
   ],
   "source": [
    "percent_missing = (df2.isnull()/df2.shape[0]).sum()\n",
    "percent_missing[percent_missing > 0.01].sort_values(ascending=False)\n"
   ]
  },
  {
   "cell_type": "code",
   "execution_count": 101,
   "metadata": {
    "scrolled": false
   },
   "outputs": [
    {
     "data": {
      "text/plain": [
       "host_response_rate                   object\n",
       "host_acceptance_rate                 object\n",
       "host_is_superhost                    object\n",
       "host_total_listings_count           float64\n",
       "host_has_profile_pic                 object\n",
       "host_identity_verified               object\n",
       "neighbourhood_group_cleansed         object\n",
       "property_type                        object\n",
       "room_type                            object\n",
       "accommodates                          int64\n",
       "bathrooms                           float64\n",
       "bedrooms                            float64\n",
       "beds                                float64\n",
       "bed_type                             object\n",
       "amenities                            object\n",
       "square_feet                         float64\n",
       "price                                object\n",
       "weekly_price                         object\n",
       "monthly_price                        object\n",
       "security_deposit                     object\n",
       "cleaning_fee                         object\n",
       "guests_included                       int64\n",
       "extra_people                         object\n",
       "minimum_nights                        int64\n",
       "maximum_nights                        int64\n",
       "availability_30                       int64\n",
       "number_of_reviews                     int64\n",
       "review_scores_rating                float64\n",
       "requires_license                     object\n",
       "instant_bookable                     object\n",
       "cancellation_policy                  object\n",
       "require_guest_profile_picture        object\n",
       "require_guest_phone_verification     object\n",
       "calculated_host_listings_count        int64\n",
       "reviews_per_month                   float64\n",
       "dtype: object"
      ]
     },
     "execution_count": 101,
     "metadata": {},
     "output_type": "execute_result"
    }
   ],
   "source": [
    "df2.dtypes"
   ]
  },
  {
   "cell_type": "markdown",
   "metadata": {},
   "source": [
    "# Step 3: Clean Up"
   ]
  },
  {
   "cell_type": "markdown",
   "metadata": {},
   "source": [
    "I convert host_response_rate and host_acceptance_rate to float rather than objects. This allows for numeric manipulations down the road.  I also remove square_feet due to a high number of missing values."
   ]
  },
  {
   "cell_type": "code",
   "execution_count": 102,
   "metadata": {
    "collapsed": true,
    "scrolled": true
   },
   "outputs": [],
   "source": [
    "df2['host_response_rate'] = df2['host_response_rate'].str.strip('%').astype(float)\n",
    "df2['host_acceptance_rate'] = df2['host_acceptance_rate'].str.strip('%').astype(float)\n"
   ]
  },
  {
   "cell_type": "code",
   "execution_count": 103,
   "metadata": {
    "collapsed": true,
    "scrolled": true
   },
   "outputs": [],
   "source": [
    "df2 = df2.drop(['square_feet'], axis=1)\n"
   ]
  },
  {
   "cell_type": "markdown",
   "metadata": {},
   "source": [
    "I convert price to numeric rather than being categorical.  I was not able to figure out how to use str.strip to remove commas so the one price with a comma I simply replaced with a text value without (shown below) prior to converting the price field to a float datatype."
   ]
  },
  {
   "cell_type": "code",
   "execution_count": 104,
   "metadata": {
    "collapsed": true
   },
   "outputs": [],
   "source": [
    "df2.loc[(df2['price']=='$1,000.00'),'price'] = '$1000.00'\n",
    "# df2['price'] = df2['price'].replace(',', '')\n",
    "df2['price'] = df2['price'].str.strip('$')\n",
    "df2['price'].head(1000)\n",
    "df2['price'] = df2['price'].astype(float)"
   ]
  },
  {
   "cell_type": "markdown",
   "metadata": {},
   "source": [
    "I drop any missing minimum night rows (as this is related to my outcome variable of having one night options for stay) and also convert it to a binary variable for modeling."
   ]
  },
  {
   "cell_type": "code",
   "execution_count": 105,
   "metadata": {
    "collapsed": true,
    "scrolled": true
   },
   "outputs": [],
   "source": [
    "df2['one_night_option'] = np.where(df2['minimum_nights']==1,1,0)\n",
    "df2['house_or_other'] = np.where(df2['property_type'] == 'House','House','Non-House')\n",
    "df2['shared_room'] = np.where(df2['room_type']== 'Entire home/apt ', 'No ','Yes')\n"
   ]
  },
  {
   "cell_type": "markdown",
   "metadata": {},
   "source": [
    "Next I drop minimum_nights, property_type, and room_type in favor of the variables I created."
   ]
  },
  {
   "cell_type": "code",
   "execution_count": 106,
   "metadata": {
    "collapsed": true,
    "scrolled": false
   },
   "outputs": [],
   "source": [
    "df2 = df2.drop(['minimum_nights', 'property_type', 'room_type'], axis=1)"
   ]
  },
  {
   "cell_type": "markdown",
   "metadata": {},
   "source": [
    "For some of the columns (has_weekly_price, has_monthly_price, has_security_deposit, has_extra_people_fee, has_cleaning_fee), imputing a value for the missing wouldn't be appropriate because it may simply mean that there isn't one.  It also doesn't make sense to make them 0 either for that same reason.  Therefore I take those variables and convert them to a binary variable which just indicated whether or not they have them."
   ]
  },
  {
   "cell_type": "code",
   "execution_count": 107,
   "metadata": {
    "collapsed": true
   },
   "outputs": [],
   "source": [
    "df2['has_weekly_price'] = np.where(df2['weekly_price'].isnull(),0,1)\n",
    "df2['has_monthly_price'] = np.where(df2['monthly_price'].isnull(),0,1)\n",
    "df2['has_security_deposit'] = np.where(df2['security_deposit'].isnull(),0,1)\n",
    "df2['has_extra_people_fee'] = np.where(df2['extra_people']=='$0.00',0,1)\n",
    "df2['has_cleaning_fee'] = np.where(df2['cleaning_fee'].isnull(),0,1)\n",
    "df2 = df2.drop(['weekly_price','monthly_price','security_deposit','extra_people','cleaning_fee'], axis=1)"
   ]
  },
  {
   "cell_type": "markdown",
   "metadata": {},
   "source": [
    "Next I make a correlation plot with the cleaned up data.  I found the template for this from at https://seaborn.pydata.org/examples/many_pairwise_correlations.html.  I'm making a correlation plot to see whether or not it appears that some of the variables in this dataset might relate to whether a host allows for single night stays.  I'm looking for darker boxes in the one_night_option variable row.  Based on the data below it does appear as though some variables such as the number accomodated or the number of reviews have at least a weak to moderate relationship."
   ]
  },
  {
   "cell_type": "code",
   "execution_count": 108,
   "metadata": {
    "scrolled": false
   },
   "outputs": [],
   "source": [
    "# corr"
   ]
  },
  {
   "cell_type": "markdown",
   "metadata": {},
   "source": [
    "# Step 4: Visualize"
   ]
  },
  {
   "cell_type": "markdown",
   "metadata": {},
   "source": [
    "I first want to understand where correlations might exist between the different variables.  Specifically, I'm looking to understand where having a one night option might show a relationship with the other variables of interest.  I do this by using a correlation mantrix.  I found a good seaborn code example to start from out at initial helper code: https://seaborn.pydata.org/examples/many_pairwise_correlations.html.\n",
    "\n",
    "As can be seen, there are a cluster of highly correlated variables (accomodates, bathrooms, bedrooms, beds, price, guests included.)  I will plan to only keep accomodates and drop bedrooms, bathrooms, and guests included as these seem very redundant and tell the same story.  While price is related, there may be other interesting information in price that might not be related only to the number of rooms or how many can be accomodated.  Therefore, I'll keep it. "
   ]
  },
  {
   "cell_type": "code",
   "execution_count": 109,
   "metadata": {
    "scrolled": true
   },
   "outputs": [
    {
     "data": {
      "text/plain": [
       "<matplotlib.axes._subplots.AxesSubplot at 0x1794df544e0>"
      ]
     },
     "execution_count": 109,
     "metadata": {},
     "output_type": "execute_result"
    },
    {
     "data": {
      "image/png": "[encoded data removed]",
      "text/plain": [
       "<matplotlib.figure.Figure at 0x1794df537f0>"
      ]
     },
     "metadata": {},
     "output_type": "display_data"
    }
   ],
   "source": [
    "corr = df2.corr()\n",
    "mask = np.triu(np.ones_like(corr, dtype=bool))\n",
    "\n",
    "# Generate a mask for the upper triangle\n",
    "mask = np.triu(np.ones_like(corr, dtype=bool))\n",
    "\n",
    "# Set up the matplotlib figure\n",
    "f, ax = plt.subplots(figsize=(10, 6))\n",
    "\n",
    "# Generate a custom diverging colormap\n",
    "cmap = sns.diverging_palette(230, 20, as_cmap=True)\n",
    "\n",
    "# Draw the heatmap with the mask and correct aspect ratio\n",
    "sns.heatmap(corr, mask=mask, cmap=cmap, vmax=.3, center=0,\n",
    "            square=True, linewidths=.5, cbar_kws={\"shrink\": .5})"
   ]
  },
  {
   "cell_type": "code",
   "execution_count": 110,
   "metadata": {
    "scrolled": true
   },
   "outputs": [
    {
     "data": {
      "text/html": [
       "<div>\n",
       "<style>\n",
       "    .dataframe thead tr:only-child th {\n",
       "        text-align: right;\n",
       "    }\n",
       "\n",
       "    .dataframe thead th {\n",
       "        text-align: left;\n",
       "    }\n",
       "\n",
       "    .dataframe tbody tr th {\n",
       "        vertical-align: top;\n",
       "    }\n",
       "</style>\n",
       "<table border=\"1\" class=\"dataframe\">\n",
       "  <thead>\n",
       "    <tr style=\"text-align: right;\">\n",
       "      <th></th>\n",
       "      <th>one_night_option</th>\n",
       "    </tr>\n",
       "  </thead>\n",
       "  <tbody>\n",
       "    <tr>\n",
       "      <th>price</th>\n",
       "      <td>-0.192059</td>\n",
       "    </tr>\n",
       "    <tr>\n",
       "      <th>has_security_deposit</th>\n",
       "      <td>-0.187662</td>\n",
       "    </tr>\n",
       "    <tr>\n",
       "      <th>bedrooms</th>\n",
       "      <td>-0.179355</td>\n",
       "    </tr>\n",
       "    <tr>\n",
       "      <th>accommodates</th>\n",
       "      <td>-0.178515</td>\n",
       "    </tr>\n",
       "    <tr>\n",
       "      <th>has_cleaning_fee</th>\n",
       "      <td>-0.171673</td>\n",
       "    </tr>\n",
       "    <tr>\n",
       "      <th>beds</th>\n",
       "      <td>-0.165427</td>\n",
       "    </tr>\n",
       "    <tr>\n",
       "      <th>bathrooms</th>\n",
       "      <td>-0.123320</td>\n",
       "    </tr>\n",
       "    <tr>\n",
       "      <th>has_weekly_price</th>\n",
       "      <td>-0.120210</td>\n",
       "    </tr>\n",
       "    <tr>\n",
       "      <th>host_total_listings_count</th>\n",
       "      <td>-0.118016</td>\n",
       "    </tr>\n",
       "    <tr>\n",
       "      <th>guests_included</th>\n",
       "      <td>-0.116886</td>\n",
       "    </tr>\n",
       "    <tr>\n",
       "      <th>has_monthly_price</th>\n",
       "      <td>-0.079879</td>\n",
       "    </tr>\n",
       "    <tr>\n",
       "      <th>calculated_host_listings_count</th>\n",
       "      <td>-0.075481</td>\n",
       "    </tr>\n",
       "    <tr>\n",
       "      <th>host_response_rate</th>\n",
       "      <td>-0.062466</td>\n",
       "    </tr>\n",
       "    <tr>\n",
       "      <th>review_scores_rating</th>\n",
       "      <td>-0.055472</td>\n",
       "    </tr>\n",
       "    <tr>\n",
       "      <th>number_of_reviews</th>\n",
       "      <td>-0.008192</td>\n",
       "    </tr>\n",
       "    <tr>\n",
       "      <th>has_extra_people_fee</th>\n",
       "      <td>-0.004664</td>\n",
       "    </tr>\n",
       "    <tr>\n",
       "      <th>host_acceptance_rate</th>\n",
       "      <td>0.015290</td>\n",
       "    </tr>\n",
       "    <tr>\n",
       "      <th>availability_30</th>\n",
       "      <td>0.035168</td>\n",
       "    </tr>\n",
       "    <tr>\n",
       "      <th>maximum_nights</th>\n",
       "      <td>0.038772</td>\n",
       "    </tr>\n",
       "    <tr>\n",
       "      <th>reviews_per_month</th>\n",
       "      <td>0.199832</td>\n",
       "    </tr>\n",
       "    <tr>\n",
       "      <th>one_night_option</th>\n",
       "      <td>1.000000</td>\n",
       "    </tr>\n",
       "  </tbody>\n",
       "</table>\n",
       "</div>"
      ],
      "text/plain": [
       "                                one_night_option\n",
       "price                                  -0.192059\n",
       "has_security_deposit                   -0.187662\n",
       "bedrooms                               -0.179355\n",
       "accommodates                           -0.178515\n",
       "has_cleaning_fee                       -0.171673\n",
       "beds                                   -0.165427\n",
       "bathrooms                              -0.123320\n",
       "has_weekly_price                       -0.120210\n",
       "host_total_listings_count              -0.118016\n",
       "guests_included                        -0.116886\n",
       "has_monthly_price                      -0.079879\n",
       "calculated_host_listings_count         -0.075481\n",
       "host_response_rate                     -0.062466\n",
       "review_scores_rating                   -0.055472\n",
       "number_of_reviews                      -0.008192\n",
       "has_extra_people_fee                   -0.004664\n",
       "host_acceptance_rate                    0.015290\n",
       "availability_30                         0.035168\n",
       "maximum_nights                          0.038772\n",
       "reviews_per_month                       0.199832\n",
       "one_night_option                        1.000000"
      ]
     },
     "execution_count": 110,
     "metadata": {},
     "output_type": "execute_result"
    }
   ],
   "source": [
    "corrDF = pd.DataFrame(corr['one_night_option']).sort_values(by=['one_night_option'])\n",
    "corrDF\n",
    "\n",
    "# abs_corr.dtypes\n",
    "# abs_corr['abs_corr'] = abs(abs_corr['one_night_option'])\n",
    "# abs_corr = pd.DataFrame(abs_corr)\n",
    "# abs_corr.dtypes\n"
   ]
  },
  {
   "cell_type": "markdown",
   "metadata": {},
   "source": [
    "# Visual Differences in One Night Stay Options and Other Variables\n",
    "\n"
   ]
  },
  {
   "cell_type": "markdown",
   "metadata": {},
   "source": [
    "Does there tend to be a price difference between one night option rentals and those that require two or more nights?  I used a histogram that shows overlap initially to view price vs one night option status.  I found a good starter example https://datavizpyr.com/overlapping-histograms-with-matplotlib-in-python/ for help on this.  As can be seen, the one night option rentals have lower prices."
   ]
  },
  {
   "cell_type": "code",
   "execution_count": 111,
   "metadata": {},
   "outputs": [
    {
     "data": {
      "image/png": "[encoded data removed]",
      "text/plain": [
       "<matplotlib.figure.Figure at 0x17949333ba8>"
      ]
     },
     "metadata": {},
     "output_type": "display_data"
    }
   ],
   "source": [
    "plt.figure(figsize=(8,6))\n",
    "plt.hist(df2[df2['one_night_option']==1]['price'], bins=100, alpha=0.5, label=\"Has One Night Option\")\n",
    "plt.hist(df2[df2['one_night_option']==0]['price'], bins=100, alpha=0.5, label=\"No One Night Option\")\n",
    "plt.xlabel(\"Price\", size=14)\n",
    "plt.ylabel(\"Count\", size=14)\n",
    "plt.title(\"Price of Rental by One Night Option\")\n",
    "plt.legend(loc='upper right')\n",
    "plt.savefig(\"overlapping_histograms_with_matplotlib_Python.png\")"
   ]
  },
  {
   "cell_type": "markdown",
   "metadata": {},
   "source": [
    "To see this even better using bins, I created a 5-bin variable on price and looked at ther percentage of rentals within each bin that offered a one-night option.  I found out how to do this at https://stackoverflow.com/questions/45273731/binning-a-column-with-python-pandas.\n",
    "\n",
    "As you can see, the higher priced options have a lower percentage with a one-night option."
   ]
  },
  {
   "cell_type": "code",
   "execution_count": 112,
   "metadata": {
    "scrolled": false
   },
   "outputs": [
    {
     "data": {
      "text/plain": [
       "<matplotlib.axes._subplots.AxesSubplot at 0x1794f0406d8>"
      ]
     },
     "execution_count": 112,
     "metadata": {},
     "output_type": "execute_result"
    },
    {
     "data": {
      "image/png": "[encoded data removed]",
      "text/plain": [
       "<matplotlib.figure.Figure at 0x1794eff50b8>"
      ]
     },
     "metadata": {},
     "output_type": "display_data"
    }
   ],
   "source": [
    "df2['binned_price'] = pd.qcut(df2['price'], q=5)\n",
    "\n",
    "price_one_night = df2[['binned_price','one_night_option']].groupby(['binned_price']).mean().plot.bar()\n",
    "price_one_night"
   ]
  },
  {
   "cell_type": "markdown",
   "metadata": {},
   "source": [
    "I also looked at the reviews per month as this variable also appeared to have a higher correlation with one night stay options.  Below you find the binned version of the number of reviews vs the percentage with a one night option.  While not all bins show an increase in percentage with one night stays vs number of reivews, directionally this looks to be the case."
   ]
  },
  {
   "cell_type": "code",
   "execution_count": 113,
   "metadata": {
    "scrolled": true
   },
   "outputs": [
    {
     "data": {
      "text/plain": [
       "<matplotlib.axes._subplots.AxesSubplot at 0x1794f55d240>"
      ]
     },
     "execution_count": 113,
     "metadata": {},
     "output_type": "execute_result"
    },
    {
     "data": {
      "image/png": "[encoded data removed]",
      "text/plain": [
       "<matplotlib.figure.Figure at 0x1794f6553c8>"
      ]
     },
     "metadata": {},
     "output_type": "display_data"
    }
   ],
   "source": [
    "df2['binned_reviews'] = pd.qcut(df2['reviews_per_month'], q=5)\n",
    "\n",
    "price_one_night = df2[['binned_reviews','one_night_option']].groupby(['binned_reviews']).mean().plot.bar()\n",
    "price_one_night"
   ]
  },
  {
   "cell_type": "markdown",
   "metadata": {},
   "source": [
    "# Step 5:  Model Using Logistic Regression"
   ]
  },
  {
   "cell_type": "markdown",
   "metadata": {},
   "source": [
    "At this point I choose to use Logistic Regression to help get at what variables might be relevant when determining whether a host allows for one night stays or not.  Although logistic regression does introduce the risk of bias, I use it more for the fact that, unlike machine learning models such as random forest, linear regression allows for a better ability to explain what is going on in the model and what variables are driving the relationship."
   ]
  },
  {
   "cell_type": "markdown",
   "metadata": {},
   "source": [
    "The first step is to break the dataset up into float/int variables, and object variables.   This is done so that the variables can have NA values filled differently.  Object variables will be dummy coded whereas the over variable types will either have the mean or the mode introduced for blank values."
   ]
  },
  {
   "cell_type": "code",
   "execution_count": 114,
   "metadata": {
    "collapsed": true,
    "scrolled": false
   },
   "outputs": [],
   "source": [
    "df2 = df2.drop(['binned_reviews','binned_price'], axis=1)\n",
    "\n",
    "\n",
    "float_int_df = df2.select_dtypes(include=['float64', 'int64'])\n",
    "object_df = df2.select_dtypes(include=['object'])\n",
    "object_df = object_df.drop(['amenities'], axis = 1)\n",
    "object_df2 = object_df.drop(['host_has_profile_pic','bed_type','host_identity_verified','neighbourhood_group_cleansed'], axis=1)\n",
    "for_mode_df = float_int_df.drop(['reviews_per_month','review_scores_rating'], axis=1)\n",
    "for_mean_df = float_int_df[['reviews_per_month','review_scores_rating']]\n"
   ]
  },
  {
   "cell_type": "markdown",
   "metadata": {},
   "source": [
    "Here is where I fill with the mean or mode.  I use lambda functions as taught in our Unity class."
   ]
  },
  {
   "cell_type": "code",
   "execution_count": 115,
   "metadata": {
    "collapsed": true
   },
   "outputs": [],
   "source": [
    "\n",
    "\n",
    "fill_mode = lambda col: col.fillna(col.mode()[0])\n",
    "fill_mean = lambda col: col.fillna(col.mean())\n",
    "\n",
    "for_mode_df_filled = for_mode_df.apply(fill_mode, axis = 1)\n",
    "for_mode_df_filled.head()\n",
    "\n",
    "for_mean_df_filled = for_mean_df.apply(fill_mean, axis = 1)\n",
    "\n",
    "\n",
    "    \n",
    "\n",
    "\n"
   ]
  },
  {
   "cell_type": "markdown",
   "metadata": {},
   "source": [
    "I use the create_dummy_df that was created in the Udacity project"
   ]
  },
  {
   "cell_type": "code",
   "execution_count": 116,
   "metadata": {
    "collapsed": true
   },
   "outputs": [],
   "source": [
    "def create_dummy_df(df, cat_cols, dummy_na):\n",
    "    '''\n",
    "    INPUT:\n",
    "    df - pandas dataframe with categorical variables you want to dummy\n",
    "    cat_cols - list of strings that are associated with names of the categorical columns\n",
    "    dummy_na - Bool holding whether you want to dummy NA vals of categorical columns or not\n",
    "    \n",
    "    OUTPUT:\n",
    "    df - a new dataframe that has the following characteristics:\n",
    "            1. contains all columns that were not specified as categorical\n",
    "            2. removes all the original columns in cat_cols\n",
    "            3. dummy columns for each of the categorical columns in cat_cols\n",
    "            4. if dummy_na is True - it also contains dummy columns for the NaN values\n",
    "            5. Use a prefix of the column name with an underscore (_) for separating \n",
    "    '''\n",
    "    for col in  cat_cols:\n",
    "        try:\n",
    "            # for each cat add dummy var, drop original column\n",
    "            df = pd.concat([df.drop(col, axis=1), pd.get_dummies(df[col], prefix=col, prefix_sep='_', drop_first=True, dummy_na=dummy_na)], axis=1)\n",
    "        except:\n",
    "            continue\n",
    "    return df\n",
    "\n",
    "\n",
    "obj_dummies = create_dummy_df(object_df2, object_df.columns, dummy_na = False)"
   ]
  },
  {
   "cell_type": "markdown",
   "metadata": {},
   "source": [
    "I calculate the averages of the dummy columns just to see if any one column has a very high percentage in it (and therefore may create issues for model fit if almost all dummies are in one category).  It looks like it's fine."
   ]
  },
  {
   "cell_type": "code",
   "execution_count": 117,
   "metadata": {
    "scrolled": false
   },
   "outputs": [
    {
     "data": {
      "text/plain": [
       "house_or_other_Non-House              0.546097\n",
       "cancellation_policy_strict            0.371137\n",
       "cancellation_policy_moderate          0.327658\n",
       "host_is_superhost_t                   0.203772\n",
       "instant_bookable_t                    0.154793\n",
       "require_guest_phone_verification_t    0.098219\n",
       "require_guest_profile_picture_t       0.084075\n",
       "dtype: float64"
      ]
     },
     "execution_count": 117,
     "metadata": {},
     "output_type": "execute_result"
    }
   ],
   "source": [
    "obj_dummies.mean().sort_values(ascending=False)"
   ]
  },
  {
   "cell_type": "markdown",
   "metadata": {},
   "source": [
    "I join the datasets back together"
   ]
  },
  {
   "cell_type": "code",
   "execution_count": 118,
   "metadata": {
    "collapsed": true,
    "scrolled": true
   },
   "outputs": [],
   "source": [
    "# X = pd.concat([obj_dummies, for_mean_df_filled, for_mode_df_filled], axis=1)\n",
    "# y = df2['one_night_option']"
   ]
  },
  {
   "cell_type": "code",
   "execution_count": 119,
   "metadata": {},
   "outputs": [
    {
     "data": {
      "text/plain": [
       "(3191, 23)"
      ]
     },
     "execution_count": 119,
     "metadata": {},
     "output_type": "execute_result"
    }
   ],
   "source": [
    "Model_Dataset = pd.concat([obj_dummies, for_mean_df_filled, for_mode_df_filled, df2['one_night_option']], axis=1)\n",
    "Model_Dataset2 = Model_Dataset.dropna()\n",
    "Model_Dataset2.shape"
   ]
  },
  {
   "cell_type": "markdown",
   "metadata": {},
   "source": [
    "I use the split, train, instatiate, fit process from class.  The starting code here comes from the examples."
   ]
  },
  {
   "cell_type": "code",
   "execution_count": 120,
   "metadata": {
    "collapsed": true
   },
   "outputs": [],
   "source": [
    "\n",
    "\n",
    "#Split into explanatory and response variables\n",
    "X = Model_Dataset2.drop(['one_night_option'], axis=1)\n",
    "X = X.drop(['require_guest_phone_verification_t','bathrooms','bedrooms','beds','guests_included'], axis=1)\n",
    "y = Model_Dataset2['one_night_option']\n",
    "\n",
    "#Split into train and test\n",
    "X_train, X_test, y_train, y_test = train_test_split(X, y, test_size = .30, random_state=42) \n",
    "\n",
    "\n",
    "lm_model = LogisticRegression() # Instantiate\n",
    "lm_model.fit(X_train, y_train) #Fit\n",
    "        \n",
    "#Predict and score the model\n",
    "y_test_preds = lm_model.predict(X_test) \n",
    "\n",
    "\n",
    "# \"The r-squared score for your model was {} on {} values.\".format(r2_score(y_test, y_test_preds), len(y_test))\n",
    "\n"
   ]
  },
  {
   "cell_type": "markdown",
   "metadata": {},
   "source": [
    "Next I use the model built from training data and validate it using the test dataset.  I then create a confusion matrix to determine how well the model works. The model is correct 67% of the time on the training data.  It's better than chance alone but it would have been nice to see this number be higher.   "
   ]
  },
  {
   "cell_type": "code",
   "execution_count": 121,
   "metadata": {},
   "outputs": [
    {
     "data": {
      "text/html": [
       "<div>\n",
       "<style>\n",
       "    .dataframe thead tr:only-child th {\n",
       "        text-align: right;\n",
       "    }\n",
       "\n",
       "    .dataframe thead th {\n",
       "        text-align: left;\n",
       "    }\n",
       "\n",
       "    .dataframe tbody tr th {\n",
       "        vertical-align: top;\n",
       "    }\n",
       "</style>\n",
       "<table border=\"1\" class=\"dataframe\">\n",
       "  <thead>\n",
       "    <tr style=\"text-align: right;\">\n",
       "      <th>Prediction</th>\n",
       "      <th>0</th>\n",
       "      <th>1</th>\n",
       "    </tr>\n",
       "    <tr>\n",
       "      <th>Actual</th>\n",
       "      <th></th>\n",
       "      <th></th>\n",
       "    </tr>\n",
       "  </thead>\n",
       "  <tbody>\n",
       "    <tr>\n",
       "      <th>0</th>\n",
       "      <td>468</td>\n",
       "      <td>92</td>\n",
       "    </tr>\n",
       "    <tr>\n",
       "      <th>1</th>\n",
       "      <td>221</td>\n",
       "      <td>177</td>\n",
       "    </tr>\n",
       "  </tbody>\n",
       "</table>\n",
       "</div>"
      ],
      "text/plain": [
       "Prediction    0    1\n",
       "Actual              \n",
       "0           468   92\n",
       "1           221  177"
      ]
     },
     "execution_count": 121,
     "metadata": {},
     "output_type": "execute_result"
    }
   ],
   "source": [
    "Results = X_test.copy()\n",
    "Results['Actual'] = pd.Series(y_test)\n",
    "Results = Results.reset_index()\n",
    "Results['Prediction'] = pd.Series(y_test_preds)\n",
    "\n",
    "Results.head()\n",
    "# pd.DataFrame(pd.Series(y_test_preds), pd.Series(y_test))\n",
    "\n",
    "\n",
    "# test2 = pd.concat([pd.Series(y_test_preds),y_test.reset_index(drop=True)], axis=1, ignore_index=True)\n",
    "pd.crosstab(Results['Actual'], Results['Prediction'])\n",
    "\n",
    "\n"
   ]
  },
  {
   "cell_type": "markdown",
   "metadata": {},
   "source": [
    "I found out that scikit learn models are more interested in prediction rather than explainability.  As such, I needed a logistic model regression that would help me get at the variables driving the decision process in the regression model.  I found an explaination of this at https://sweetcode.io/easy-scikit-logistic-regression/.  It suggested using statsmodels as a package. I do so below to get a nice print out of relevant variables in the logistic regression model.  In addition to the number of reviews and price that I found before from  correlations, I also see that the cancellation policy and the requirement to provide a guest profile picture are predictors with statistical relevance.  The negative coefficient suggests that hosts who require these stricter standards are also less likely to allow for one night stays.\n",
    "\n",
    "In addition, superhosts also show as being less open to  one night stays. It seems likely that one night stays are less profitable, and therefore, when you're first starting out you're willing to get the one night stays in favor of reviews but as you become a superhost there is less need to tailor to the one night stay crowd."
   ]
  },
  {
   "cell_type": "markdown",
   "metadata": {},
   "source": [
    "https://sweetcode.io/easy-scikit-logistic-regression/"
   ]
  },
  {
   "cell_type": "code",
   "execution_count": 122,
   "metadata": {
    "scrolled": true
   },
   "outputs": [
    {
     "name": "stdout",
     "output_type": "stream",
     "text": [
      "Optimization terminated successfully.\n",
      "         Current function value: 0.589947\n",
      "         Iterations 6\n",
      "                           Logit Regression Results                           \n",
      "==============================================================================\n",
      "Dep. Variable:       one_night_option   No. Observations:                 2233\n",
      "Model:                          Logit   Df Residuals:                     2216\n",
      "Method:                           MLE   Df Model:                           16\n",
      "Date:                Fri, 13 May 2022   Pseudo R-squ.:                  0.1187\n",
      "Time:                        06:12:34   Log-Likelihood:                -1317.4\n",
      "converged:                       True   LL-Null:                       -1494.7\n",
      "                                        LLR p-value:                 1.079e-65\n",
      "===================================================================================================\n",
      "                                      coef    std err          z      P>|z|      [0.025      0.975]\n",
      "---------------------------------------------------------------------------------------------------\n",
      "host_is_superhost_t                -0.5832      0.123     -4.733      0.000      -0.825      -0.342\n",
      "instant_bookable_t                 -0.1324      0.131     -1.010      0.312      -0.389       0.124\n",
      "cancellation_policy_moderate       -0.8746      0.121     -7.241      0.000      -1.111      -0.638\n",
      "cancellation_policy_strict         -0.8328      0.130     -6.413      0.000      -1.087      -0.578\n",
      "require_guest_profile_picture_t    -0.8659      0.214     -4.044      0.000      -1.286      -0.446\n",
      "house_or_other_Non-House           -0.0793      0.097     -0.821      0.412      -0.268       0.110\n",
      "reviews_per_month                   0.3496      0.037      9.574      0.000       0.278       0.421\n",
      "review_scores_rating                0.0022      0.002      1.072      0.284      -0.002       0.006\n",
      "host_response_rate                 -0.0013      0.002     -0.604      0.546      -0.006       0.003\n",
      "host_acceptance_rate               -0.0006      0.002     -0.297      0.766      -0.004       0.003\n",
      "host_total_listings_count          -0.0086      0.004     -2.242      0.025      -0.016      -0.001\n",
      "accommodates                       -0.0203      0.036     -0.569      0.569      -0.090       0.050\n",
      "price                              -0.0029      0.001     -3.159      0.002      -0.005      -0.001\n",
      "maximum_nights                   1.753e-05   2.28e-05      0.770      0.442   -2.71e-05    6.22e-05\n",
      "availability_30                     0.0123      0.004      3.019      0.003       0.004       0.020\n",
      "number_of_reviews                  -0.0044      0.001     -3.000      0.003      -0.007      -0.002\n",
      "calculated_host_listings_count     -0.0023      0.009     -0.252      0.801      -0.021       0.016\n",
      "===================================================================================================\n"
     ]
    }
   ],
   "source": [
    "# logistic_regression = sm.Logit(X_train,sm.add_constant(train_data.age))\n",
    "# result = logistic_regression.fit()\n",
    "# print(result.summary())\n",
    "\n",
    "log_reg = sm.Logit(y_train, X_train).fit()\n",
    "print(log_reg.summary())"
   ]
  },
  {
   "cell_type": "markdown",
   "metadata": {},
   "source": [
    "# Step 6: Visualize"
   ]
  },
  {
   "cell_type": "markdown",
   "metadata": {},
   "source": [
    "After building a model, it appears there are some other variables that are good predictors of whether a property has a one-night policy in addition to the price and number of reviews shown previously.  I provide bar chart plots below for cancellation policy, superhost status, and whether or not a guest profile picture is rquire.  I then show the difference in average value between those properties for the one-night option and the variable categories."
   ]
  },
  {
   "cell_type": "code",
   "execution_count": 123,
   "metadata": {
    "scrolled": true
   },
   "outputs": [
    {
     "data": {
      "text/plain": [
       "<matplotlib.axes._subplots.AxesSubplot at 0x1794c5b36a0>"
      ]
     },
     "execution_count": 123,
     "metadata": {},
     "output_type": "execute_result"
    },
    {
     "data": {
      "image/png": "[encoded data removed]",
      "text/plain": [
       "<matplotlib.figure.Figure at 0x1794f729be0>"
      ]
     },
     "metadata": {},
     "output_type": "display_data"
    }
   ],
   "source": [
    "price_one_night = df2[['cancellation_policy','one_night_option']].groupby(['cancellation_policy']).mean().plot.bar()\n",
    "price_one_night"
   ]
  },
  {
   "cell_type": "code",
   "execution_count": 124,
   "metadata": {
    "scrolled": true
   },
   "outputs": [
    {
     "data": {
      "text/plain": [
       "<matplotlib.axes._subplots.AxesSubplot at 0x1794f0a9cf8>"
      ]
     },
     "execution_count": 124,
     "metadata": {},
     "output_type": "execute_result"
    },
    {
     "data": {
      "image/png": "[encoded data removed]",
      "text/plain": [
       "<matplotlib.figure.Figure at 0x1794f05ae80>"
      ]
     },
     "metadata": {},
     "output_type": "display_data"
    }
   ],
   "source": [
    "price_one_night = df2[['host_is_superhost','one_night_option']].groupby(['host_is_superhost']).mean().plot.bar()\n",
    "price_one_night"
   ]
  },
  {
   "cell_type": "code",
   "execution_count": 125,
   "metadata": {
    "scrolled": false
   },
   "outputs": [
    {
     "data": {
      "text/plain": [
       "<matplotlib.axes._subplots.AxesSubplot at 0x1794f0c3eb8>"
      ]
     },
     "execution_count": 125,
     "metadata": {},
     "output_type": "execute_result"
    },
    {
     "data": {
      "image/png": "[encoded data removed]",
      "text/plain": [
       "<matplotlib.figure.Figure at 0x1794f0cbc88>"
      ]
     },
     "metadata": {},
     "output_type": "display_data"
    }
   ],
   "source": [
    "price_one_night = df2[['require_guest_profile_picture','one_night_option']].groupby(['require_guest_profile_picture']).mean().plot.bar()\n",
    "price_one_night"
   ]
  },
  {
   "cell_type": "markdown",
   "metadata": {},
   "source": [
    "# Summary"
   ]
  },
  {
   "cell_type": "markdown",
   "metadata": {},
   "source": [
    "In summary, there are variables which show a relationship with whether or not an Airbnb property allows a one night rental option. They include price (more expensive properties are less likely to allow a one night option), the number of reviews (properties that have more are less likely to have one night options), cancellation policy (more strict cancellation policies are related to fewer offering a one night option), whether the host is a superhost (superhosts are less likely to have the one night option), and finally whether a host requires a guest profile picture (requiring one is related to fewer one night options)\n",
    "\n",
    "In general, I would say that the results are similar to what I would expect.  One night options are less profitable than multi-night stays because you have to clean/prepare the room more often.  You also will be giving away more amenities (mini shampoo, soap, snacks) than for multi night stays. Therefore, I can see why new Airbnb hosts (non-superhosts) would be more willing to have a one night option in order to get reviews and hopefully get superhost status.  Once you have superhost status and reviews, however, you may be less likely to offer one night stays since they are more hassle and you can get along fine without them. \n",
    "\n",
    "Also, having a larger number of different renters in a given year increases the chance of having at least one bad renter who doesn't take care of the property and may result in damage costs.  Because of this, it would make sense that one night options are more likely to require more strict cancellation policies.  It may also make sense that higher priced properties have fewer one night options due to a desire to limit the number of people who might ruin a very nice property.\n",
    "\n",
    "I was surprised to see that the one night options were less likely to require a guest profile picture.  However, I suppose similar to price that the higher priced places have more to lose if a bad guest trashes the place so having a picture for identity purposes might help ensure only guest willing to show their face get into the nice properties.  "
   ]
  }
 ],
 "metadata": {
  "kernelspec": {
   "display_name": "Python 3",
   "language": "python",
   "name": "python3"
  },
  "language_info": {
   "codemirror_mode": {
    "name": "ipython",
    "version": 3
   },
   "file_extension": ".py",
   "mimetype": "text/x-python",
   "name": "python",
   "nbconvert_exporter": "python",
   "pygments_lexer": "ipython3",
   "version": "3.6.1"
  }
 },
 "nbformat": 4,
 "nbformat_minor": 2
}
